{
 "cells": [
  {
   "cell_type": "code",
   "execution_count": 1,
   "id": "757aaa4a",
   "metadata": {},
   "outputs": [],
   "source": [
    "import pandas as pd\n",
    "import numpy as np"
   ]
  },
  {
   "cell_type": "code",
   "execution_count": 5,
   "id": "c4758431",
   "metadata": {},
   "outputs": [],
   "source": [
    "import os\n",
    "\n",
    "# List of input files\n",
    "input_files = [\n",
    "    \"CIC_IOMT_2024.csv\",\n",
    "    \"CIC_IoT_2023.csv\",\n",
    "    \"Edge_IIoT.csv\",\n",
    "    \"IoT_23.CSV\",\n",
    "    \"MedBIoT.csv\"\n",
    "]\n",
    "\n",
    "for file in input_files:\n",
    "    # Read the CSV file\n",
    "    df = pd.read_csv(file)\n",
    "    # Sample 100 rows randomly\n",
    "    sample_df = df.sample(n=100, random_state=42)\n",
    "    # Prepare output file name\n",
    "    base, ext = os.path.splitext(file)\n",
    "    output_file = f\"{base}_100_Samples.csv\"\n",
    "    # Save the sampled dataframe\n",
    "    sample_df.to_csv(output_file, index=False)"
   ]
  },
  {
   "cell_type": "code",
   "execution_count": null,
   "id": "83317093",
   "metadata": {},
   "outputs": [],
   "source": []
  },
  {
   "cell_type": "code",
   "execution_count": null,
   "id": "5f9a99e2",
   "metadata": {},
   "outputs": [],
   "source": []
  }
 ],
 "metadata": {
  "kernelspec": {
   "display_name": "base",
   "language": "python",
   "name": "python3"
  },
  "language_info": {
   "codemirror_mode": {
    "name": "ipython",
    "version": 3
   },
   "file_extension": ".py",
   "mimetype": "text/x-python",
   "name": "python",
   "nbconvert_exporter": "python",
   "pygments_lexer": "ipython3",
   "version": "3.11.7"
  }
 },
 "nbformat": 4,
 "nbformat_minor": 5
}
